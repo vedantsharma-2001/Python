{
 "cells": [
  {
   "cell_type": "code",
   "execution_count": 1,
   "id": "f05ac183",
   "metadata": {},
   "outputs": [
    {
     "name": "stdout",
     "output_type": "stream",
     "text": [
      "Enter the number:2000\n",
      "Leap Year\n"
     ]
    }
   ],
   "source": [
    "#1) Display all leap years in a given range.\n",
    "year=int(input(\"Enter the number:\"))\n",
    "if(year % 4 == 0 and year % 100 !=0 or year % 400 == 0):\n",
    "    print(\"Leap Year\")\n",
    "else:\n",
    "    print(\"Not a Leap Year\")"
   ]
  },
  {
   "cell_type": "code",
   "execution_count": 2,
   "id": "05be44a8",
   "metadata": {},
   "outputs": [
    {
     "name": "stdout",
     "output_type": "stream",
     "text": [
      "10\n",
      "12\n",
      "14\n",
      "16\n",
      "18\n",
      "20\n",
      "22\n",
      "24\n",
      "26\n",
      "28\n",
      "30\n",
      "32\n",
      "34\n",
      "36\n",
      "38\n",
      "40\n",
      "42\n",
      "44\n",
      "46\n",
      "48\n",
      "50\n",
      "52\n",
      "54\n",
      "56\n",
      "58\n",
      "60\n",
      "62\n",
      "64\n",
      "66\n",
      "68\n",
      "70\n",
      "72\n",
      "74\n",
      "76\n",
      "78\n",
      "80\n",
      "82\n",
      "84\n",
      "86\n",
      "88\n",
      "90\n",
      "92\n",
      "94\n",
      "96\n",
      "98\n",
      "100\n"
     ]
    }
   ],
   "source": [
    "#2) Display all even numbers between 10 to 100\n",
    "for i in range(10,100+1,2):\n",
    "    print(i)"
   ]
  },
  {
   "cell_type": "code",
   "execution_count": 3,
   "id": "daad0ef2",
   "metadata": {},
   "outputs": [
    {
     "name": "stdout",
     "output_type": "stream",
     "text": [
      "Enter the number:12345\n",
      "Sum of digits of a number: 15\n"
     ]
    }
   ],
   "source": [
    "#3) Find sum of digits of a number.\n",
    "n=int(input(\"Enter the number:\"))\n",
    "temp=0\n",
    "while(n>0):\n",
    "    dig=n%10\n",
    "    temp=temp+dig\n",
    "    n=n//10\n",
    "    \n",
    "print(\"Sum of digits of a number:\",temp)"
   ]
  },
  {
   "cell_type": "code",
   "execution_count": 4,
   "id": "a5f26008",
   "metadata": {},
   "outputs": [
    {
     "name": "stdout",
     "output_type": "stream",
     "text": [
      "Reverse of a number is : 321\n"
     ]
    }
   ],
   "source": [
    "#4) Reverse a number.\n",
    "n=123\n",
    "rev=0\n",
    "while n!=0:\n",
    "    dig=n%10\n",
    "    rev=rev*10+dig\n",
    "    n=n//10\n",
    "print(\"Reverse of a number is :\",rev)"
   ]
  },
  {
   "cell_type": "code",
   "execution_count": 5,
   "id": "767d9d24",
   "metadata": {},
   "outputs": [
    {
     "name": "stdout",
     "output_type": "stream",
     "text": [
      "2 !  : 2\n",
      "3 !  : 6\n",
      "4 !  : 24\n",
      "5 !  : 120\n",
      "6 !  : 720\n",
      "7 !  : 5040\n",
      "8 !  : 40320\n",
      "9 !  : 362880\n",
      "10 !  : 3628800\n"
     ]
    }
   ],
   "source": [
    "#5) Print factorial of numbers between 2 to 10\n",
    "fact=1\n",
    "for i in range(2,10+1):\n",
    "    fact=fact*i\n",
    "    print(i,\"!  :\",fact)"
   ]
  },
  {
   "cell_type": "code",
   "execution_count": 6,
   "id": "412667a8",
   "metadata": {},
   "outputs": [
    {
     "name": "stdout",
     "output_type": "stream",
     "text": [
      "Enter the multiplication table:5\n",
      "5 * 1 = 5\n",
      "5 * 2 = 10\n",
      "5 * 3 = 15\n",
      "5 * 4 = 20\n",
      "5 * 5 = 25\n",
      "5 * 6 = 30\n",
      "5 * 7 = 35\n",
      "5 * 8 = 40\n",
      "5 * 9 = 45\n",
      "5 * 10 = 50\n"
     ]
    }
   ],
   "source": [
    "#6) Display mul table of numbers in a given range.\n",
    "mul=int(input(\"Enter the multiplication table:\"))\n",
    "for i in range(1,10+1):\n",
    "    print(mul,\"*\",i,\"=\",mul*i)"
   ]
  },
  {
   "cell_type": "code",
   "execution_count": 7,
   "id": "d026a81d",
   "metadata": {},
   "outputs": [
    {
     "name": "stdout",
     "output_type": "stream",
     "text": [
      "        \n",
      "     1    \n",
      "    2  2    \n",
      "   3  3  3    \n",
      "  4  4  4  4    \n"
     ]
    }
   ],
   "source": [
    "'''7) Display patterns\n",
    "\n",
    "     1\n",
    "    2  2\n",
    "  3   3  3\n",
    " 4  4   4  4\n",
    "'''\n",
    "row=4\n",
    "m=(2*row)-2\n",
    "for i in range(row+1):\n",
    "    for j in range(m):\n",
    "        print(end=\" \")\n",
    "    m=m-1\n",
    "    for j in range(i):\n",
    "        print(i,end=\"  \")\n",
    "    print(\"  \")"
   ]
  },
  {
   "cell_type": "code",
   "execution_count": 8,
   "id": "64781d88",
   "metadata": {},
   "outputs": [
    {
     "name": "stdout",
     "output_type": "stream",
     "text": [
      "      *    \n",
      "     *  *    \n",
      "    *  *  *    \n",
      "   *  *  *  *    \n"
     ]
    }
   ],
   "source": [
    "'''  *\n",
    "    *  *\n",
    "   *  *  *\n",
    "  *  *  *  *\n",
    "'''\n",
    "row=4\n",
    "m=(2*row)-2\n",
    "for i in range(1,row+1):\n",
    "    for j in range(m):\n",
    "        print(end=\" \")\n",
    "    m=m-1\n",
    "    for j in range(1,i+1):\n",
    "        print(\"*\",end=\"  \")\n",
    "    print(\"  \")"
   ]
  },
  {
   "cell_type": "code",
   "execution_count": 26,
   "id": "2fdbfc04",
   "metadata": {},
   "outputs": [
    {
     "name": "stdout",
     "output_type": "stream",
     "text": [
      "        1  \n",
      "       2 3  \n",
      "      3 4 5  \n",
      "     4 5 6 7  \n",
      "    5 6 7 8 9  \n"
     ]
    }
   ],
   "source": [
    "'''    1\n",
    "      2 3\n",
    "     3 4 5\n",
    "   4  5  6 7\n",
    "  5  6  7  8 9 \n",
    "'''\n",
    "\n",
    "row=5\n",
    "m=(2*row)-2\n",
    "i=1\n",
    "for i in range(1,row+1):\n",
    "    for j in range(0,m):\n",
    "        print(end=\" \")\n",
    "    m=m-1\n",
    "    for j in range(1,i+1):\n",
    "        print(i,end=\" \")\n",
    "        i=i+1\n",
    "    print(\" \")"
   ]
  },
  {
   "cell_type": "code",
   "execution_count": 63,
   "id": "d3691672",
   "metadata": {},
   "outputs": [
    {
     "name": "stdout",
     "output_type": "stream",
     "text": [
      "A A A A  \n",
      "B B B  \n",
      "C C  \n",
      "D  \n"
     ]
    }
   ],
   "source": [
    "''' A A A A\n",
    "    B B B\n",
    "    C C\n",
    "    D   \n",
    "'''\n",
    "ch=65\n",
    "for i in range(4,0,-1):\n",
    "    for j in range(1,i+1):\n",
    "        print(chr(ch),end=\" \")\n",
    "    ch=ch+1\n",
    "    print(\" \")"
   ]
  },
  {
   "cell_type": "code",
   "execution_count": 11,
   "id": "329b3307",
   "metadata": {},
   "outputs": [
    {
     "name": "stdout",
     "output_type": "stream",
     "text": [
      "Enter the number:2\n",
      "It is an Prime Number\n"
     ]
    }
   ],
   "source": [
    "#8) Check if a number is prime number.\n",
    "n=int(input(\"Enter the number:\"))\n",
    "flag=False\n",
    "if n > 1:\n",
    "    for i in range(2,n):\n",
    "        if(n % i == 0):\n",
    "            flag=True\n",
    "            break\n",
    "        \n",
    "if flag==False:\n",
    "    print(\"It is an Prime Number\")\n",
    "else:\n",
    "    print(\"It is not an Prime Number\")"
   ]
  },
  {
   "cell_type": "code",
   "execution_count": 12,
   "id": "3be6d481",
   "metadata": {},
   "outputs": [
    {
     "name": "stdout",
     "output_type": "stream",
     "text": [
      "[2, 3, 5, 7, 11, 13, 17, 19]\n"
     ]
    }
   ],
   "source": [
    "# 9) Display all Prime Numbers in an interval.\n",
    "start=2\n",
    "end=20\n",
    "store=[]\n",
    "for num in range(start,end+1):\n",
    "    if num > 1:\n",
    "        for i in range(2,num):\n",
    "            if(num % i) == 0:\n",
    "                break\n",
    "        else:\n",
    "            store.append(num)\n",
    "print(store)\n",
    "                "
   ]
  },
  {
   "cell_type": "code",
   "execution_count": 21,
   "id": "e350edde",
   "metadata": {},
   "outputs": [
    {
     "name": "stdout",
     "output_type": "stream",
     "text": [
      "Enter the number:1634\n",
      "It is an armstrong number\n"
     ]
    }
   ],
   "source": [
    "'''10) Check if a number is amstrong number.\n",
    "     (Sum of cube of its digits is the number itself)\n",
    "\n",
    "  e.g   153\n",
    " \n",
    "  cube(1) + cube(5) + cube(3)\n",
    "    1+125+27\n",
    "'''\n",
    "n=int(input(\"Enter the number:\"))\n",
    "summ=0\n",
    "temp=n\n",
    "order=len(str(n))\n",
    "while(temp>0):\n",
    "    dig=temp%10\n",
    "    temp=temp//10\n",
    "    summ=summ+dig**order\n",
    "if(summ==n):\n",
    "    print(\"It is an armstrong number\")\n",
    "else:\n",
    "    print(\"It is not an armstrong number\")\n"
   ]
  },
  {
   "cell_type": "code",
   "execution_count": 23,
   "id": "7d9f5dd4",
   "metadata": {},
   "outputs": [
    {
     "name": "stdout",
     "output_type": "stream",
     "text": [
      "[1, 2, 3, 4, 5, 6, 7, 8, 9, 153, 370, 371, 407]\n"
     ]
    }
   ],
   "source": [
    "#11) Display all amstrong numbers between 1 to 1000\n",
    "\n",
    "start=1\n",
    "end=1000\n",
    "store=[]\n",
    "for num in range(start,end+1):\n",
    "    summ=0\n",
    "    temp=num\n",
    "    order=len(str(num))\n",
    "    while(temp>0):\n",
    "        dig=temp%10\n",
    "        temp=temp//10\n",
    "        summ=summ+dig**order\n",
    "    if(summ==num):\n",
    "        store.append(num)\n",
    "print(store)"
   ]
  },
  {
   "cell_type": "code",
   "execution_count": 3,
   "id": "aab7c22d",
   "metadata": {},
   "outputs": [
    {
     "name": "stdout",
     "output_type": "stream",
     "text": [
      "Enter the number:496\n",
      "It is a Perfect Number\n"
     ]
    }
   ],
   "source": [
    "#12) Check if a number is a perfect number.\n",
    "n=int(input(\"Enter the number:\"))\n",
    "summ=0\n",
    "for i in range(1,n):\n",
    "    if(n%i==0):\n",
    "        summ=summ+i\n",
    "        \n",
    "        \n",
    "if(summ==n):\n",
    "    print(\"It is a Perfect Number\")\n",
    "else:\n",
    "    print(\"It is not a Perfect Number\")"
   ]
  },
  {
   "cell_type": "markdown",
   "id": "610bdcee",
   "metadata": {},
   "source": [
    "Perfect Number: - A Perfect Number is a number in which sum of the divisors of a number is equal to the number."
   ]
  },
  {
   "cell_type": "code",
   "execution_count": 71,
   "id": "64193e66",
   "metadata": {},
   "outputs": [
    {
     "name": "stdout",
     "output_type": "stream",
     "text": [
      "Enter the number:23\n",
      "Enter the number:11\n",
      "The GCD of 23 and 11 is 1\n"
     ]
    }
   ],
   "source": [
    "#13) Find GCD of two numbers .  (Greatest Common Divisor)\n",
    "import math\n",
    "a=int(input(\"Enter the number:\"))\n",
    "b=int(input(\"Enter the number:\"))\n",
    "print(\"The GCD of\",a,\"and\",b,\"is\",math.gcd(a,b))"
   ]
  },
  {
   "cell_type": "markdown",
   "id": "26f40b68",
   "metadata": {},
   "source": [
    "GCD: - 1. The Full Form of GCD is Greatest Common Divisor.\n",
    "       2. A GCD is also called as HCF(Highest Common Factor).\n",
    "       3. GCD is a mathematical term that is used to find greatest common divisor that can                   perfectly divide by two numbers. Suppose the Greatest Common Divisor of two number of 54           and 24 is 6. 6 is the greatest common divisor tht completely divides to 54 and 24. \n",
    "gcd():-In Python, gcd() is an built-in-function offered by mathematical module which is used to          find greatest common divisor of two numbers.\n",
    "       gcd(a,b)\n",
    "Where a and b are the two integer passes an arguement to the function gcd()."
   ]
  },
  {
   "cell_type": "code",
   "execution_count": 1,
   "id": "6d447ee1",
   "metadata": {},
   "outputs": [
    {
     "name": "stdout",
     "output_type": "stream",
     "text": [
      "10  \n",
      "10 20  \n",
      "10 20 30  \n",
      "10 20 30 40  \n",
      "10 20 30 40 50  \n",
      "10 20 30 40 50 60  \n",
      "10 20 30 40 50 60 70  \n",
      "10 20 30 40 50 60 70 80  \n",
      "10 20 30 40 50 60 70 80 90  \n",
      "10 20 30 40 50 60 70 80 90 100  \n"
     ]
    }
   ],
   "source": [
    "'''14)\n",
    "\n",
    "10\n",
    "10 20\n",
    "10 20 30\n",
    "10 20 30 40\n",
    "--\n",
    "--\n",
    "10 20 30 40 50.................100\n",
    "'''\n",
    "for i in range(1,10+1):\n",
    "    for j in range(1,i+1):\n",
    "        print(j*10,end=\" \")\n",
    "    print(\" \")"
   ]
  },
  {
   "cell_type": "code",
   "execution_count": 32,
   "id": "9fb0b056",
   "metadata": {},
   "outputs": [
    {
     "name": "stdout",
     "output_type": "stream",
     "text": [
      "A B C D E F   F E D C B A  \n",
      "A B C D E       E D C B A  \n",
      "A B C D           D C B A  \n",
      "A B C               C B A  \n",
      "A B                   B A  \n",
      "A                       A  \n"
     ]
    }
   ],
   "source": [
    "'''15) \n",
    " \n",
    " A B C D E F F E D C B A\n",
    " A B C D E     E D C B A\n",
    " A B C D         D C B A\n",
    " A B C             C B A\n",
    " A B                 B A\n",
    " A                     A\n",
    "'''\n",
    "ch=65\n",
    "sp=1\n",
    "for i in range(6,0,-1):\n",
    "    ch=65\n",
    "    for j in range(1,i+1):\n",
    "        print(chr(ch),end=\" \")\n",
    "        ch=ch+1\n",
    "    ch=ch-1\n",
    "    for sp in range(0,sp):\n",
    "        print(\" \",end=\" \")\n",
    "        sp=sp+3\n",
    "    for j in range(1,i+1):\n",
    "        print(chr(ch),end=\" \")\n",
    "        ch=ch-1\n",
    "    print(\" \")"
   ]
  }
 ],
 "metadata": {
  "kernelspec": {
   "display_name": "Python 3 (ipykernel)",
   "language": "python",
   "name": "python3"
  },
  "language_info": {
   "codemirror_mode": {
    "name": "ipython",
    "version": 3
   },
   "file_extension": ".py",
   "mimetype": "text/x-python",
   "name": "python",
   "nbconvert_exporter": "python",
   "pygments_lexer": "ipython3",
   "version": "3.9.7"
  }
 },
 "nbformat": 4,
 "nbformat_minor": 5
}
