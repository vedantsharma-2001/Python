{
 "cells": [
  {
   "cell_type": "code",
   "execution_count": 1,
   "id": "d0177ddd",
   "metadata": {},
   "outputs": [
    {
     "name": "stdout",
     "output_type": "stream",
     "text": [
      "This is a line.This is another line\n",
      "\n",
      "This is a line.\n",
      "This is another line\n"
     ]
    }
   ],
   "source": [
    "'''1)Display on the screen \n",
    "   This is a line. \n",
    "   This is another line  \n",
    "  using 2 formats\n",
    "   a)Both sentences on same line\n",
    "   b)Both sentences on different lines'''\n",
    "\n",
    "#a)Both sentences on same line\n",
    "print(\"This is a line.This is another line\")\n",
    "#b)Both sentences on different lines\n",
    "print(\"\\nThis is a line.\\nThis is another line\")"
   ]
  },
  {
   "cell_type": "code",
   "execution_count": 2,
   "id": "77e97dfb",
   "metadata": {},
   "outputs": [
    {
     "name": "stdout",
     "output_type": "stream",
     "text": [
      "Enter the length:2\n",
      "Enter the breadth:3\n",
      "Area of Rectangle is: 6\n",
      "Perimeter of Rectangle is: 10\n"
     ]
    }
   ],
   "source": [
    "#2) Initialize length and breadth of a rectangle and find area and perimeter.\n",
    "l=int(input(\"Enter the length:\"))\n",
    "b=int(input(\"Enter the breadth:\"))\n",
    "area=l*b\n",
    "peri=2*(l+b)\n",
    "print(\"Area of Rectangle is:\",area)\n",
    "print(\"Perimeter of Rectangle is:\",peri)"
   ]
  },
  {
   "cell_type": "code",
   "execution_count": 3,
   "id": "38f71f34",
   "metadata": {},
   "outputs": [
    {
     "name": "stdout",
     "output_type": "stream",
     "text": [
      "Enter the base:2\n",
      "Enter the height:3\n",
      "Area of Triangle: 3.0\n"
     ]
    }
   ],
   "source": [
    "#3) Accept base and height of a triangle and find area.\n",
    "b=int(input(\"Enter the base:\"))\n",
    "h=int(input(\"Enter the height:\"))\n",
    "#Using Area of Triangle\n",
    "area=0.5*b*h\n",
    "print(\"Area of Triangle:\",area)"
   ]
  },
  {
   "cell_type": "code",
   "execution_count": 4,
   "id": "f499cad5",
   "metadata": {},
   "outputs": [
    {
     "name": "stdout",
     "output_type": "stream",
     "text": [
      "Enter the number:2\n",
      "Enter the operator:+\n",
      "Enter the number:2\n",
      "4.0\n"
     ]
    }
   ],
   "source": [
    "#4) Perform all 4 mathematical operations on two floats  given by the user.\n",
    "a=float(input(\"Enter the number:\"))\n",
    "op=input(\"Enter the operator:\")\n",
    "b=float(input(\"Enter the number:\"))\n",
    "if(op == '+'):\n",
    "    print(a+b)\n",
    "if(op == '-'):\n",
    "    print(a-b)\n",
    "if(op == '*'):\n",
    "    print(a*b)\n",
    "if(op == '/'):\n",
    "    print(a/b)\n"
   ]
  },
  {
   "cell_type": "code",
   "execution_count": 6,
   "id": "b8228e6e",
   "metadata": {},
   "outputs": [
    {
     "name": "stdout",
     "output_type": "stream",
     "text": [
      "Enter the number:1 2 3 4 5\n",
      "Sum of 5 numbers: 15\n",
      "Average of 5 numbers: 3.0\n"
     ]
    }
   ],
   "source": [
    "#5) Find sum and average of 5 numbers.\n",
    "a=list(map(int,input(\"Enter the number:\").split(\" \")))\n",
    "print(\"Sum of 5 numbers:\",sum(a))\n",
    "avg=sum(a)/len(a)\n",
    "print(\"Average of 5 numbers:\",avg)"
   ]
  }
 ],
 "metadata": {
  "kernelspec": {
   "display_name": "Python 3 (ipykernel)",
   "language": "python",
   "name": "python3"
  },
  "language_info": {
   "codemirror_mode": {
    "name": "ipython",
    "version": 3
   },
   "file_extension": ".py",
   "mimetype": "text/x-python",
   "name": "python",
   "nbconvert_exporter": "python",
   "pygments_lexer": "ipython3",
   "version": "3.9.7"
  }
 },
 "nbformat": 4,
 "nbformat_minor": 5
}
