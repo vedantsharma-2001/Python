{
 "cells": [
  {
   "cell_type": "code",
   "execution_count": 1,
   "id": "842429fb",
   "metadata": {},
   "outputs": [
    {
     "name": "stdout",
     "output_type": "stream",
     "text": [
      "Enter first number:1\n",
      "Enter second number:2\n",
      "b is greater\n"
     ]
    }
   ],
   "source": [
    "#1) Find greater among 2 unequal numbers\n",
    "a=int(input(\"Enter first number:\"))\n",
    "b=int(input(\"Enter second number:\"))\n",
    "if(a>b):\n",
    "    print(\"a is greater\")\n",
    "else:\n",
    "    print(\"b is greater\")"
   ]
  },
  {
   "cell_type": "code",
   "execution_count": 2,
   "id": "900253f7",
   "metadata": {},
   "outputs": [
    {
     "name": "stdout",
     "output_type": "stream",
     "text": [
      "Enter first number:1\n",
      "Enter second number:2\n",
      "Enter third number:3\n",
      "c is greater\n"
     ]
    }
   ],
   "source": [
    "#2) Find greatest among 3 unequal numbers\n",
    "a=int(input(\"Enter first number:\"))\n",
    "b=int(input(\"Enter second number:\"))\n",
    "c=int(input(\"Enter third number:\"))\n",
    "if a>b and a>c:\n",
    "    print(\"a is greater\")\n",
    "elif b>a and b>c:\n",
    "    print(\"b is greater\")\n",
    "else:\n",
    "    print(\"c is greater\")"
   ]
  },
  {
   "cell_type": "code",
   "execution_count": 3,
   "id": "1e0d7cc2",
   "metadata": {},
   "outputs": [
    {
     "name": "stdout",
     "output_type": "stream",
     "text": [
      "Enter the number:2\n",
      "It is even\n"
     ]
    }
   ],
   "source": [
    "#3) Accept a number and check if it is even/odd.\n",
    "n=int(input(\"Enter the number:\"))\n",
    "if(n%2==0):\n",
    "    print(\"It is even\")\n",
    "else:\n",
    "    print(\"It is odd\")\n"
   ]
  },
  {
   "cell_type": "code",
   "execution_count": 4,
   "id": "984f8ee9",
   "metadata": {},
   "outputs": [
    {
     "name": "stdout",
     "output_type": "stream",
     "text": [
      "Enter the number:5\n",
      "Positive\n"
     ]
    }
   ],
   "source": [
    "#4)Check if a number is positive, negative or zero\n",
    "n=int(input(\"Enter the number:\"))\n",
    "if(n<0):\n",
    "    print(\"Negative\")\n",
    "elif(n==0):\n",
    "    print(\"Zero\")\n",
    "elif(n>0):\n",
    "    print(\"Positive\")\n"
   ]
  },
  {
   "cell_type": "code",
   "execution_count": 5,
   "id": "1e8849db",
   "metadata": {},
   "outputs": [
    {
     "name": "stdout",
     "output_type": "stream",
     "text": [
      "Enter the rate:10\n",
      "Enter the qty:20\n",
      "0.5\n"
     ]
    }
   ],
   "source": [
    "#5) Accept rate and qty. Offer a discount of 10% if qty purchased is >100 else offer discount of 5%. Calculate bill amount\n",
    "rate=int(input(\"Enter the rate:\"))\n",
    "qty=int(input(\"Enter the qty:\"))\n",
    "if(qty>100):\n",
    "    disc=rate*0.10\n",
    "else:\n",
    "    disc=rate*0.05\n",
    "    \n",
    "print(disc)"
   ]
  },
  {
   "cell_type": "code",
   "execution_count": 6,
   "id": "6136b30e",
   "metadata": {},
   "outputs": [
    {
     "name": "stdout",
     "output_type": "stream",
     "text": [
      "Enter first number:1\n",
      "Enter second number:2\n",
      "Enter third number:3\n",
      "The smallest among three numbers are 1\n"
     ]
    }
   ],
   "source": [
    "#6) Find smallest among 3 numbers. Find their average.\n",
    "a=int(input(\"Enter first number:\"))\n",
    "b=int(input(\"Enter second number:\"))\n",
    "c=int(input(\"Enter third number:\"))\n",
    "min(a,b,c)\n",
    "print(\"The smallest among three numbers are\",min(a,b,c))"
   ]
  },
  {
   "cell_type": "code",
   "execution_count": 1,
   "id": "3402ed18",
   "metadata": {},
   "outputs": [
    {
     "name": "stdout",
     "output_type": "stream",
     "text": [
      "Enter first subject marks:58\n",
      "Enter second subject marks:35\n",
      "Enter third subject marks:46\n",
      "Enter fourth subject marks:48\n",
      "Enter fifth subject marks:59\n",
      "Enter sixth subject marks:94\n",
      "Enter seventh subject marks:50\n",
      "Pass\n",
      "Total Score: 390\n",
      "Percentage: 60.0\n",
      "First\n"
     ]
    }
   ],
   "source": [
    "'''7) Accept marks of a student in 7 subjects. \n",
    "He fails if he scores < 35 in any  subject. \n",
    "If he passes find total and percentage.\n",
    " Depending on percentage display the class in which he passes.\n",
    "\n",
    "  percentage >= 75   distinction\n",
    "  percentage<75 but >=60   First\n",
    "  <60 but >=50   Second class\n",
    "  <50 but >=35   Pass class\n",
    "'''\n",
    "a=int(input(\"Enter first subject marks:\"))\n",
    "b=int(input(\"Enter second subject marks:\"))\n",
    "c=int(input(\"Enter third subject marks:\"))\n",
    "d=int(input(\"Enter fourth subject marks:\"))\n",
    "e=int(input(\"Enter fifth subject marks:\"))\n",
    "f=int(input(\"Enter sixth subject marks:\"))\n",
    "g=int(input(\"Enter seventh subject marks:\"))\n",
    "if(a<35 or b<35 or c<35 or d<35 or e<35 or f<17.5):\n",
    "    print(\"Fail\")\n",
    "else:\n",
    "    print(\"Pass\")\n",
    "    \n",
    "total=a+b+c+d+e+f+g\n",
    "print(\"Total Score:\",total)\n",
    "Percentage=100*(total)/650\n",
    "print(\"Percentage:\",Percentage)\n",
    "if(Percentage>=75):\n",
    "    print(\"distinction\")\n",
    "elif(Percentage<75 and Percentage>=60):\n",
    "    print(\"First\")\n",
    "elif(Percentage<60 and Percentage>=50):\n",
    "    print(\"Second\")\n",
    "elif(Percentage<50 and Percentage>=35):\n",
    "    print(\"Pass Class\")"
   ]
  },
  {
   "cell_type": "code",
   "execution_count": 8,
   "id": "9ca0d18d",
   "metadata": {},
   "outputs": [
    {
     "name": "stdout",
     "output_type": "stream",
     "text": [
      "Enter the number:5\n",
      "1 :Hello\n",
      "2 :Hello\n",
      "3 :Hello\n",
      "4 :Hello\n",
      "5 :Hello\n"
     ]
    }
   ],
   "source": [
    "#10) Accept a number from the user and display \"Hello\" that many times.\n",
    "n=int(input(\"Enter the number:\"))\n",
    "for i in range(1,n+1):\n",
    "    print(i,\":Hello\")"
   ]
  },
  {
   "cell_type": "code",
   "execution_count": 9,
   "id": "c711a4e2",
   "metadata": {},
   "outputs": [
    {
     "name": "stdout",
     "output_type": "stream",
     "text": [
      "1\n",
      "2\n",
      "3\n",
      "4\n",
      "5\n",
      "6\n",
      "7\n",
      "8\n",
      "9\n",
      "10\n"
     ]
    }
   ],
   "source": [
    "#11) Display numbers from 1 to 10\n",
    "for i in range(1,10+1):\n",
    "    print(i)"
   ]
  },
  {
   "cell_type": "code",
   "execution_count": 10,
   "id": "00b75de2",
   "metadata": {},
   "outputs": [
    {
     "name": "stdout",
     "output_type": "stream",
     "text": [
      "10\n",
      "9\n",
      "8\n",
      "7\n",
      "6\n",
      "5\n",
      "4\n",
      "3\n",
      "2\n",
      "1\n"
     ]
    }
   ],
   "source": [
    "#12) Display numbers from 10 to 1\n",
    "for i in range(10,0,-1):\n",
    "    print(i)"
   ]
  },
  {
   "cell_type": "code",
   "execution_count": 11,
   "id": "bf8fbe25",
   "metadata": {},
   "outputs": [
    {
     "name": "stdout",
     "output_type": "stream",
     "text": [
      "1 = 1\n",
      "2 = 4\n",
      "3 = 9\n",
      "4 = 16\n",
      "5 = 25\n",
      "6 = 36\n",
      "7 = 49\n",
      "8 = 64\n",
      "9 = 81\n",
      "10 = 100\n"
     ]
    }
   ],
   "source": [
    "#13)  Display squares of all numbers from 1 to 10\n",
    "for i in range(1,10+1):\n",
    "    print(i,\"=\",i*i)"
   ]
  },
  {
   "cell_type": "code",
   "execution_count": 12,
   "id": "82ecc5fd",
   "metadata": {},
   "outputs": [
    {
     "name": "stdout",
     "output_type": "stream",
     "text": [
      "Enter the number:5\n",
      "120\n"
     ]
    }
   ],
   "source": [
    "#14) Find factorial of a number.\n",
    "n=int(input(\"Enter the number:\"))\n",
    "fact=1\n",
    "for i in range(1,n+1):\n",
    "    fact=fact*i\n",
    "print(fact)"
   ]
  },
  {
   "cell_type": "code",
   "execution_count": 13,
   "id": "124e38c1",
   "metadata": {},
   "outputs": [
    {
     "name": "stdout",
     "output_type": "stream",
     "text": [
      "Enter the table:5\n",
      "5 * 1 = 5\n",
      "5 * 2 = 10\n",
      "5 * 3 = 15\n",
      "5 * 4 = 20\n",
      "5 * 5 = 25\n",
      "5 * 6 = 30\n",
      "5 * 7 = 35\n",
      "5 * 8 = 40\n",
      "5 * 9 = 45\n",
      "5 * 10 = 50\n"
     ]
    }
   ],
   "source": [
    "#15)  Accept a number and display its multiplication table\n",
    "n=int(input(\"Enter the table:\"))\n",
    "for i in range(1,10+1):\n",
    "    print(n,\"*\",i,\"=\",n*i)"
   ]
  },
  {
   "cell_type": "code",
   "execution_count": 14,
   "id": "a1ddf1d0",
   "metadata": {},
   "outputs": [
    {
     "name": "stdout",
     "output_type": "stream",
     "text": [
      "Enter the number:2\n",
      "Enter the power:5\n",
      "32.0\n"
     ]
    }
   ],
   "source": [
    "#16) Find x raised to y\n",
    "import math\n",
    "x=int(input(\"Enter the number:\"))\n",
    "y=int(input(\"Enter the power:\"))\n",
    "print(math.pow(x,y))"
   ]
  },
  {
   "cell_type": "code",
   "execution_count": 22,
   "id": "f627b4f6",
   "metadata": {},
   "outputs": [
    {
     "name": "stdout",
     "output_type": "stream",
     "text": [
      "Farh\tCelsius\n",
      "0 : -17.77777777777778\n",
      "20 : -6.666666666666667\n",
      "40 : 4.444444444444445\n",
      "60 : 15.555555555555555\n",
      "80 : 26.666666666666668\n",
      "100 : 37.77777777777778\n",
      "120 : 48.888888888888886\n",
      "140 : 60.0\n",
      "160 : 71.11111111111111\n",
      "180 : 82.22222222222223\n",
      "200 : 93.33333333333333\n"
     ]
    }
   ],
   "source": [
    "'''17)   Create a farheneit to celcius conversion table in foll format\n",
    "     cel = (farh-32) * 5 /9 ;\n",
    "\n",
    "           Farh               Celcius\n",
    "\n",
    "           0\n",
    "           \n",
    "           20\n",
    "\n",
    "           40\n",
    "            -\n",
    "\n",
    "             --\n",
    "\n",
    "           200   \n",
    "'''\n",
    "print(\"Farh\"\"\\tCelsius\")\n",
    "for farh in range(0,200+1,20):\n",
    "    cel=(farh-32)*5/9\n",
    "    print(farh,\":\",cel)"
   ]
  }
 ],
 "metadata": {
  "kernelspec": {
   "display_name": "Python 3 (ipykernel)",
   "language": "python",
   "name": "python3"
  },
  "language_info": {
   "codemirror_mode": {
    "name": "ipython",
    "version": 3
   },
   "file_extension": ".py",
   "mimetype": "text/x-python",
   "name": "python",
   "nbconvert_exporter": "python",
   "pygments_lexer": "ipython3",
   "version": "3.9.7"
  }
 },
 "nbformat": 4,
 "nbformat_minor": 5
}
